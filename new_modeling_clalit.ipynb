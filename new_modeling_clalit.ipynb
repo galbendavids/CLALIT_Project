{
  "cells": [
    {
      "cell_type": "markdown",
      "metadata": {
        "id": "view-in-github",
        "colab_type": "text"
      },
      "source": [
        "<a href=\"https://colab.research.google.com/github/galbendavids/CLALIT_Project/blob/main/new_modeling_clalit.ipynb\" target=\"_parent\"><img src=\"https://colab.research.google.com/assets/colab-badge.svg\" alt=\"Open In Colab\"/></a>"
      ]
    },
    {
      "cell_type": "code",
      "execution_count": null,
      "metadata": {
        "id": "7DAPPL-NQVb4"
      },
      "outputs": [],
      "source": [
        "import pandas as pd\n",
        "new_model_table=pd.read_csv('/content/drive/MyDrive/תואר שני/תזה/data/new_model_table1501.csv')\n",
        "\n",
        "#DataFrame.dtypes for data must be int, float or bool.\n",
        "#Did not expect the data types in fields Entry_Date, BirthDate, DeathDate\n",
        "\n"
      ]
    },
    {
      "cell_type": "code",
      "execution_count": null,
      "metadata": {
        "colab": {
          "base_uri": "https://localhost:8080/"
        },
        "id": "SYbTkxrDcw2Q",
        "outputId": "a16e0491-db37-4804-e5f8-dbaea2f8d046"
      },
      "outputs": [
        {
          "output_type": "stream",
          "name": "stdout",
          "text": [
            "DiagnosisCode\n",
            "SocialStateScore_first\n",
            "SocialStateScore_last\n",
            "ClinicSocialScore_first_בינוני\n",
            "ClinicSocialScore_first_גבוה\n",
            "ClinicSocialScore_first_נמוך\n",
            "ClinicSocialScore_last_בינוני\n",
            "ClinicSocialScore_last_גבוה\n",
            "ClinicSocialScore_last_נמוך\n",
            "Smoking_Per_Day\n",
            "Smoking_לא מעשן/ת\n",
            "Smoking_מעשן/ת\n",
            "Alcohol_לא שותה אלכוהול\n",
            "Alcohol_שותה אלכוהול\n",
            "Drugs_לא משתמש/ת בסמים\n",
            "Drugs_משתמש/ת בסמים\n",
            "ImmigrationYear\n",
            "GenderName_זכר\n",
            "GenderName_לא ידוע\n",
            "GenderName_נקבה\n",
            "OriginName_אוגנדה\n",
            "OriginName_אוזבקיסטאן\n",
            "OriginName_אוסטריה\n",
            "OriginName_אוסטרליה\n",
            "OriginName_אוקראינה\n",
            "OriginName_אורוגוואי\n",
            "OriginName_אזרביג'אן\n",
            "OriginName_איטליה\n",
            "OriginName_אינדונזיה\n",
            "OriginName_אירלנד\n",
            "OriginName_אירן\n",
            "OriginName_אל סלואדור\n",
            "OriginName_אלבניה\n",
            "OriginName_אלג'יריה\n",
            "OriginName_אנגולה\n",
            "OriginName_אסטוניה\n",
            "OriginName_אפגניסטן\n",
            "OriginName_אקואדור\n",
            "OriginName_ארגנטינה\n",
            "OriginName_אריתראה\n",
            "OriginName_ארמניה\n",
            "OriginName_ארצות הברית\n",
            "OriginName_אתיופיה\n",
            "OriginName_בדרך לארץ\n",
            "OriginName_בולגריה\n",
            "OriginName_בוליביה\n",
            "OriginName_בורמה\n",
            "OriginName_בחריין\n",
            "OriginName_בילורוסיה\n",
            "OriginName_בלב_ים\n",
            "OriginName_בלגיה\n",
            "OriginName_ברזיל\n",
            "OriginName_ברית המועצות\n",
            "OriginName_גאנה\n",
            "OriginName_גיבוטי\n",
            "OriginName_גרוזיה\n",
            "OriginName_גרמניה\n",
            "OriginName_דנמרק\n",
            "OriginName_דרום אמריקה\n",
            "OriginName_דרום אפריקה\n",
            "OriginName_הודו\n",
            "OriginName_הולנד\n",
            "OriginName_הונג קונג\n",
            "OriginName_הונגריה\n",
            "OriginName_הממלכה המאוחדת\n",
            "OriginName_הרפ הדומיניקנית\n",
            "OriginName_ונצואלה\n",
            "OriginName_זאיר\n",
            "OriginName_זימבאבווה\n",
            "OriginName_טג'יקיסטאן\n",
            "OriginName_טוניסיה\n",
            "OriginName_טורכמניסטאן\n",
            "OriginName_טנגר\n",
            "OriginName_יהודה שומרון\n",
            "OriginName_יוגסלוביה\n",
            "OriginName_יוון\n",
            "OriginName_יפן\n",
            "OriginName_ירדן\n",
            "OriginName_ישראל\n",
            "OriginName_כווית\n",
            "OriginName_לא ידוע\n",
            "OriginName_לבנון\n",
            "OriginName_לוב\n",
            "OriginName_לוכסנבורג\n",
            "OriginName_לטביה\n",
            "OriginName_ליטא\n",
            "OriginName_מאוריציוס\n",
            "OriginName_מולדוביה\n",
            "OriginName_מונגוליה\n",
            "OriginName_מלדיבים\n",
            "OriginName_מלטה\n",
            "OriginName_מצרים\n",
            "OriginName_מקדוניה\n",
            "OriginName_מקסיקו\n",
            "OriginName_מרוקו\n",
            "OriginName_מרוקו הספרדית\n",
            "OriginName_נורווגיה\n",
            "OriginName_ניגריה\n",
            "OriginName_ניו זילנד\n",
            "OriginName_ניקרגואה\n",
            "OriginName_נפאל\n",
            "OriginName_סודן\n",
            "OriginName_סוריה\n",
            "OriginName_סין\n",
            "OriginName_סינגפור\n",
            "OriginName_סלובקיה\n",
            "OriginName_ספרד\n",
            "OriginName_סרי לנקה\n",
            "OriginName_עדן\n",
            "OriginName_עירק\n",
            "OriginName_ערב הסעודית\n",
            "OriginName_פולין\n",
            "OriginName_פורטוגל\n",
            "OriginName_פיליפינים\n",
            "OriginName_פינלנד\n",
            "OriginName_פנמה\n",
            "OriginName_פקיסטן\n",
            "OriginName_פרגוואי\n",
            "OriginName_פרו\n",
            "OriginName_צ'ילי\n",
            "OriginName_צ'כוסלובקיה\n",
            "OriginName_צכיה\n",
            "OriginName_צרפת\n",
            "OriginName_קובה\n",
            "OriginName_קולומביה\n",
            "OriginName_קונגו\n",
            "OriginName_קוריאה\n",
            "OriginName_קוריאה הדרומית\n",
            "OriginName_קזחסטאן\n",
            "OriginName_קירג'זסטאן\n",
            "OriginName_קנדה\n",
            "OriginName_קניה\n",
            "OriginName_קפריסין\n",
            "OriginName_רודזיה\n",
            "OriginName_רומניה\n",
            "OriginName_רוסיה\n",
            "OriginName_רמת הגולן\n",
            "OriginName_רפ דר מע אפריקנ\n",
            "OriginName_רצועת עזה וסיני\n",
            "OriginName_שאר ארצ. אפריקה\n",
            "OriginName_שאר ארצות אסיה\n",
            "OriginName_שוודיה\n",
            "OriginName_שוויץ\n",
            "OriginName_תאילנד\n",
            "OriginName_תורכיה\n",
            "OriginName_תימן\n",
            "SectorName_אחר\n",
            "SectorName_יהודי\n",
            "SectorName_ערבי\n",
            "birth_year\n",
            "Entry_Date_habits_year\n"
          ]
        }
      ],
      "source": [
        "new_model_table=new_model_table.drop(columns=['PID','Unnamed: 0'])\n",
        "cols=new_model_table.columns\n",
        "for i in cols:\n",
        "  print  (i)"
      ]
    },
    {
      "cell_type": "code",
      "execution_count": null,
      "metadata": {
        "colab": {
          "base_uri": "https://localhost:8080/"
        },
        "id": "mO4b60r0Rjuu",
        "outputId": "4d9e5b52-c131-40a4-8ae8-0d7102b393fc"
      },
      "outputs": [
        {
          "output_type": "stream",
          "name": "stdout",
          "text": [
            "<class 'pandas.core.frame.DataFrame'>\n",
            "RangeIndex: 115058 entries, 0 to 115057\n",
            "Columns: 151 entries, DiagnosisCode to Entry_Date_habits_year\n",
            "dtypes: float64(18), int64(133)\n",
            "memory usage: 132.6 MB\n"
          ]
        }
      ],
      "source": [
        "new_model_table.info()"
      ]
    },
    {
      "cell_type": "code",
      "execution_count": null,
      "metadata": {
        "colab": {
          "base_uri": "https://localhost:8080/"
        },
        "id": "zLAYufF5U-Av",
        "outputId": "21b74f71-6eb9-447b-ef6d-0b0b4cbe9c4e"
      },
      "outputs": [
        {
          "output_type": "execute_result",
          "data": {
            "text/plain": [
              "DiagnosisCode                     float64\n",
              "SocialStateScore_first            float64\n",
              "SocialStateScore_last             float64\n",
              "ClinicSocialScore_first_בינוני    float64\n",
              "ClinicSocialScore_first_גבוה      float64\n",
              "                                   ...   \n",
              "SectorName_אחר                      int64\n",
              "SectorName_יהודי                    int64\n",
              "SectorName_ערבי                     int64\n",
              "birth_year                          int64\n",
              "Entry_Date_habits_year            float64\n",
              "Length: 151, dtype: object"
            ]
          },
          "metadata": {},
          "execution_count": 4
        }
      ],
      "source": [
        "new_model_table.dtypes"
      ]
    },
    {
      "cell_type": "code",
      "execution_count": null,
      "metadata": {
        "id": "rfZaU5ANVLCv"
      },
      "outputs": [],
      "source": [
        "from xgboost import XGBClassifier\n",
        "\n",
        "y=new_model_table[['DiagnosisCode']]\n",
        "X=new_model_table.drop(columns=['DiagnosisCode'])\n",
        "from sklearn.model_selection import train_test_split\n",
        "\n",
        "\n",
        "X_train, X_test, Y_train, Y_test = train_test_split(X, y, test_size=0.20)\n"
      ]
    },
    {
      "cell_type": "code",
      "execution_count": null,
      "metadata": {
        "colab": {
          "base_uri": "https://localhost:8080/"
        },
        "id": "AO_mdW8GV1XM",
        "outputId": "b79c2632-c6c0-4426-97ce-c439eb886f96"
      },
      "outputs": [
        {
          "output_type": "stream",
          "name": "stdout",
          "text": [
            "XGBClassifier(gamma=2, learning_rate=0.3, max_depth=24, n_estimators=300,\n",
            "              scale_pos_weight=50000)\n"
          ]
        },
        {
          "output_type": "stream",
          "name": "stderr",
          "text": [
            "/usr/local/lib/python3.7/dist-packages/sklearn/preprocessing/_label.py:98: DataConversionWarning: A column-vector y was passed when a 1d array was expected. Please change the shape of y to (n_samples, ), for example using ravel().\n",
            "  y = column_or_1d(y, warn=True)\n",
            "/usr/local/lib/python3.7/dist-packages/sklearn/preprocessing/_label.py:133: DataConversionWarning: A column-vector y was passed when a 1d array was expected. Please change the shape of y to (n_samples, ), for example using ravel().\n",
            "  y = column_or_1d(y, warn=True)\n"
          ]
        },
        {
          "output_type": "stream",
          "name": "stdout",
          "text": [
            "[[13854  6597]\n",
            " [ 1590   971]]\n"
          ]
        }
      ],
      "source": [
        "\n",
        "\n",
        "xgbc = XGBClassifier(gamma=2, learning_rate=0.3,max_depth=24,n_estimators=300,scale_pos_weight=50000)\n",
        "print(xgbc)\n",
        "\n",
        "xgbc.fit(X_train, Y_train)\n",
        "\n",
        "\n",
        "from sklearn.metrics import confusion_matrix\n",
        "ypred = xgbc.predict(X_test)\n",
        "cm = confusion_matrix(Y_test,ypred) \n",
        "print(cm)\n"
      ]
    },
    {
      "cell_type": "code",
      "execution_count": null,
      "metadata": {
        "colab": {
          "base_uri": "https://localhost:8080/"
        },
        "id": "qNsLOySPERnQ",
        "outputId": "7ea25fed-6bc7-45ad-9b7b-5cb9fb87bc05"
      },
      "outputs": [
        {
          "output_type": "stream",
          "name": "stderr",
          "text": [
            "/usr/local/lib/python3.7/dist-packages/sklearn/preprocessing/_label.py:98: DataConversionWarning: A column-vector y was passed when a 1d array was expected. Please change the shape of y to (n_samples, ), for example using ravel().\n",
            "  y = column_or_1d(y, warn=True)\n",
            "/usr/local/lib/python3.7/dist-packages/sklearn/preprocessing/_label.py:133: DataConversionWarning: A column-vector y was passed when a 1d array was expected. Please change the shape of y to (n_samples, ), for example using ravel().\n",
            "  y = column_or_1d(y, warn=True)\n",
            "/usr/local/lib/python3.7/dist-packages/sklearn/preprocessing/_label.py:98: DataConversionWarning: A column-vector y was passed when a 1d array was expected. Please change the shape of y to (n_samples, ), for example using ravel().\n",
            "  y = column_or_1d(y, warn=True)\n",
            "/usr/local/lib/python3.7/dist-packages/sklearn/preprocessing/_label.py:133: DataConversionWarning: A column-vector y was passed when a 1d array was expected. Please change the shape of y to (n_samples, ), for example using ravel().\n",
            "  y = column_or_1d(y, warn=True)\n"
          ]
        }
      ],
      "source": [
        "from sklearn.metrics import roc_auc_score, accuracy_score, precision_score, recall_score, f1_score, balanced_accuracy_score\n",
        "from sklearn.model_selection import cross_validate\n",
        "\n",
        "\n",
        "scoring = ['accuracy', 'precision_macro', 'recall_macro' , 'f1_weighted', 'roc_auc','balanced_accuracy','precision_weighted','recall_weighted']\n",
        "scores = cross_validate(xgbc, X_train, Y_train, scoring=scoring, cv=2,return_estimator=True)\n",
        "\n",
        "sorted(scores.keys())\n",
        "fit_time = scores['fit_time']\n",
        "score_time = scores['score_time']\n",
        "accuracy = scores['test_accuracy']\n",
        "precision = scores['test_precision_macro']\n",
        "recall = scores['test_recall_macro']\n",
        "f1 = scores['test_f1_weighted']\n",
        "roc = scores['test_roc_auc']\n",
        "ba = scores['test_balanced_accuracy']\n",
        "\n",
        "\n"
      ]
    },
    {
      "cell_type": "code",
      "execution_count": null,
      "metadata": {
        "colab": {
          "base_uri": "https://localhost:8080/"
        },
        "id": "_-g_X5WYUZIJ",
        "outputId": "645f32b9-c358-4528-a4d6-288e2f49ee7a"
      },
      "outputs": [
        {
          "output_type": "execute_result",
          "data": {
            "text/plain": [
              "array([0.66783999, 0.67057775])"
            ]
          },
          "metadata": {},
          "execution_count": 8
        }
      ],
      "source": [
        "accuracy"
      ]
    },
    {
      "cell_type": "code",
      "execution_count": null,
      "metadata": {
        "colab": {
          "base_uri": "https://localhost:8080/"
        },
        "id": "C_qRZ29JWsZq",
        "outputId": "0cda7f09-7f29-4e01-9192-e51fea3294e1"
      },
      "outputs": [
        {
          "output_type": "execute_result",
          "data": {
            "text/plain": [
              "array([0.51317423, 0.51410294])"
            ]
          },
          "metadata": {},
          "execution_count": 9
        }
      ],
      "source": [
        "precision"
      ]
    },
    {
      "cell_type": "code",
      "execution_count": null,
      "metadata": {
        "colab": {
          "base_uri": "https://localhost:8080/"
        },
        "id": "71ORAsdGWuGx",
        "outputId": "bec5c5b9-a538-4d48-9ead-163e87713ec1"
      },
      "outputs": [
        {
          "output_type": "execute_result",
          "data": {
            "text/plain": [
              "array([0.52759792, 0.52939336])"
            ]
          },
          "metadata": {},
          "execution_count": 10
        }
      ],
      "source": [
        "recall#define best model"
      ]
    },
    {
      "cell_type": "code",
      "execution_count": null,
      "metadata": {
        "colab": {
          "base_uri": "https://localhost:8080/"
        },
        "id": "ZzAkBk3cXmgy",
        "outputId": "ed6fc88f-ee90-4001-cb4b-d95fa20c9673"
      },
      "outputs": [
        {
          "output_type": "execute_result",
          "data": {
            "text/plain": [
              "array([0.55038256, 0.55150969])"
            ]
          },
          "metadata": {},
          "execution_count": 11
        }
      ],
      "source": [
        "roc"
      ]
    },
    {
      "cell_type": "code",
      "execution_count": null,
      "metadata": {
        "colab": {
          "base_uri": "https://localhost:8080/"
        },
        "id": "spmfjheId_bn",
        "outputId": "b68ca598-5af6-4819-b62a-cbdaf947b026"
      },
      "outputs": [
        {
          "output_type": "execute_result",
          "data": {
            "text/plain": [
              "array([0.52759792, 0.52939336])"
            ]
          },
          "metadata": {},
          "execution_count": 12
        }
      ],
      "source": [
        "ba"
      ]
    },
    {
      "cell_type": "code",
      "execution_count": null,
      "metadata": {
        "id": "pSGeKBGfRltO"
      },
      "outputs": [],
      "source": [
        "import numpy as np\n",
        "from sklearn.metrics import multilabel_confusion_matrix\n",
        "from sklearn.metrics import plot_confusion_matrix\n",
        "import pickle\n",
        "\n",
        "def confusion_matrix(prediction_model):\n",
        "  # Plot non-normalized confusion matrix\n",
        "  titles_options = [\n",
        "                    (\"Normalized confusion matrix\", 'true')]\n",
        "  for title, normalize in titles_options:\n",
        "      disp = plot_confusion_matrix(prediction_model, X_test, Y_test,\n",
        "                                  cmap=plt.cm.Blues,\n",
        "                                  normalize=normalize)\n",
        "      disp.ax_.set_title(title)\n",
        "\n",
        "      print(title)\n",
        "      print(disp.confusion_matrix)\n",
        "\n",
        "  plt.show()\n",
        "\n",
        "def best_model(scores):\n",
        " estimators=scores['estimator']\n",
        " recall=scores['test_precision_macro']\n",
        " max_index = np.argmax(recall, axis=0)\n",
        " prediction_model=estimators[max_index]\n",
        " return prediction_model\n",
        "\n",
        "\n",
        "\n"
      ]
    },
    {
      "cell_type": "code",
      "execution_count": null,
      "metadata": {
        "colab": {
          "base_uri": "https://localhost:8080/",
          "height": 418
        },
        "id": "ZkVI19KEET0d",
        "outputId": "5b95980b-0ce4-41c4-ebac-5333e86014a4"
      },
      "outputs": [
        {
          "output_type": "stream",
          "name": "stderr",
          "text": [
            "/usr/local/lib/python3.7/dist-packages/sklearn/utils/deprecation.py:87: FutureWarning: Function plot_confusion_matrix is deprecated; Function `plot_confusion_matrix` is deprecated in 1.0 and will be removed in 1.2. Use one of the class methods: ConfusionMatrixDisplay.from_predictions or ConfusionMatrixDisplay.from_estimator.\n",
            "  warnings.warn(msg, category=FutureWarning)\n"
          ]
        },
        {
          "output_type": "stream",
          "name": "stdout",
          "text": [
            "Normalized confusion matrix\n",
            "[[0.70373087 0.29626913]\n",
            " [0.66614604 0.33385396]]\n"
          ]
        },
        {
          "output_type": "display_data",
          "data": {
            "image/png": "[encoded data removed]",
            "text/plain": [
              "<Figure size 432x288 with 2 Axes>"
            ]
          },
          "metadata": {
            "needs_background": "light"
          }
        },
        {
          "output_type": "execute_result",
          "data": {
            "application/vnd.google.colaboratory.intrinsic+json": {
              "type": "string"
            },
            "text/plain": [
              "'\\n\\nprediction_model = xgbc\\n#confusion_matrix(prediction_model)\\n'"
            ]
          },
          "metadata": {},
          "execution_count": 14
        }
      ],
      "source": [
        "import pickle\n",
        "import matplotlib.pyplot as plt\n",
        "\n",
        "\n",
        "prediction_model = best_model(scores)\n",
        "confusion_matrix(prediction_model)\n",
        "'''\n",
        "\n",
        "prediction_model = xgbc\n",
        "#confusion_matrix(prediction_model)\n",
        "'''"
      ]
    },
    {
      "cell_type": "code",
      "execution_count": null,
      "metadata": {
        "colab": {
          "base_uri": "https://localhost:8080/",
          "height": 333
        },
        "id": "4R37EWwiZYs3",
        "outputId": "5993e1cf-9886-442b-b0a4-07c61e14e00d"
      },
      "outputs": [
        {
          "output_type": "stream",
          "name": "stderr",
          "text": [
            "/usr/local/lib/python3.7/dist-packages/sklearn/utils/deprecation.py:87: FutureWarning: Function plot_confusion_matrix is deprecated; Function `plot_confusion_matrix` is deprecated in 1.0 and will be removed in 1.2. Use one of the class methods: ConfusionMatrixDisplay.from_predictions or ConfusionMatrixDisplay.from_estimator.\n",
            "  warnings.warn(msg, category=FutureWarning)\n"
          ]
        },
        {
          "output_type": "display_data",
          "data": {
            "image/png": "[encoded data removed]",
            "text/plain": [
              "<Figure size 432x288 with 2 Axes>"
            ]
          },
          "metadata": {
            "needs_background": "light"
          }
        }
      ],
      "source": [
        "plot_confusion_matrix(prediction_model, X_test, Y_test,cmap=plt.cm.Blues)  \n",
        "plt.show()"
      ]
    },
    {
      "cell_type": "code",
      "execution_count": null,
      "metadata": {
        "id": "LTpyVazEfmzD"
      },
      "outputs": [],
      "source": [
        "from xgboost import plot_importance\n",
        "from matplotlib import pyplot"
      ]
    },
    {
      "cell_type": "code",
      "execution_count": null,
      "metadata": {
        "colab": {
          "base_uri": "https://localhost:8080/",
          "height": 332
        },
        "id": "wt3JUe8deHWM",
        "outputId": "d3132b7c-16e3-47fd-f672-9f807b05aede"
      },
      "outputs": [
        {
          "output_type": "display_data",
          "data": {
            "text/plain": [
              "<Figure size 360000x103680 with 0 Axes>"
            ]
          },
          "metadata": {}
        },
        {
          "output_type": "display_data",
          "data": {
            "image/png": "[encoded data removed]",
            "text/plain": [
              "<Figure size 432x288 with 1 Axes>"
            ]
          },
          "metadata": {
            "needs_background": "light"
          }
        }
      ],
      "source": [
        "\n",
        "pyplot.figure(figsize=(5000,1440))\n",
        "plot_importance(prediction_model,max_num_features=16)\n",
        "\n",
        "pyplot.show()\n"
      ]
    },
    {
      "cell_type": "code",
      "execution_count": null,
      "metadata": {
        "id": "sgV1ZsXBe7Ht"
      },
      "outputs": [],
      "source": []
    }
  ],
  "metadata": {
    "colab": {
      "name": "new_modeling_clalit.ipynb",
      "provenance": [],
      "mount_file_id": "17bfjcHuDxQFf7MpEQYHOoFXw1rlEmbva",
      "authorship_tag": "ABX9TyM8jhI4Iolu3MPFsItn6Cxb",
      "include_colab_link": true
    },
    "kernelspec": {
      "display_name": "Python 3",
      "name": "python3"
    },
    "language_info": {
      "name": "python"
    }
  },
  "nbformat": 4,
  "nbformat_minor": 0
}